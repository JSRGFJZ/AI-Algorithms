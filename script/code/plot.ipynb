{
 "cells": [
  {
   "cell_type": "code",
   "execution_count": null,
   "metadata": {},
   "outputs": [],
   "source": [
    "mainly follow http link  https://pymotw.com/3/argparse/"
   ]
  },
  {
   "cell_type": "code",
   "execution_count": 7,
   "metadata": {},
   "outputs": [
    {
     "name": "stdout",
     "output_type": "stream",
     "text": [
      "Namespace(noarg=True, witharg='fsdfds', witharg2=44)\n"
     ]
    }
   ],
   "source": [
    "import argparse\n",
    "parser = argparse.ArgumentParser(description = \"short sample\")\n",
    "parser.add_argument('--noarg', action=\"store_true\", default = \"False\")\n",
    "parser.add_argument('--witharg',action=\"store\",dest=\"witharg\")\n",
    "parser.add_argument('--witharg2',action=\"store\",dest=\"witharg2\",type=int)\n",
    "\n",
    "print(parser.parse_args(['--noarg','--witharg',\"fsdfds\",'--witharg2','44']))\n",
    "\n",
    "# dest is one variable, '--witharg' is one name, later we can use 'dest' to name it\n",
    "#"
   ]
  },
  {
   "cell_type": "code",
   "execution_count": 11,
   "metadata": {},
   "outputs": [
    {
     "name": "stderr",
     "output_type": "stream",
     "text": [
      "usage: ipykernel_launcher.py [-h] count\n",
      "ipykernel_launcher.py: error: argument count: invalid int value: '/run/user/1000/jupyter/kernel-7af64a8e-d12e-4d6f-8d89-c7c790374ee6.json'\n"
     ]
    },
    {
     "ename": "SystemExit",
     "evalue": "2",
     "output_type": "error",
     "traceback": [
      "An exception has occurred, use %tb to see the full traceback.\n",
      "\u001b[0;31mSystemExit\u001b[0m\u001b[0;31m:\u001b[0m 2\n"
     ]
    },
    {
     "name": "stderr",
     "output_type": "stream",
     "text": [
      "/home/jean/anaconda3/lib/python3.6/site-packages/IPython/core/interactiveshell.py:2971: UserWarning: To exit: use 'exit', 'quit', or Ctrl-D.\n",
      "  warn(\"To exit: use 'exit', 'quit', or Ctrl-D.\", stacklevel=1)\n"
     ]
    }
   ],
   "source": [
    "import argparse\n",
    "parser=argparse.ArgumentParser(description=\"example\")\n",
    "parser.add_argument('count',action=\"store\",type=int)\n",
    "print(parser.parse_args())"
   ]
  },
  {
   "cell_type": "code",
   "execution_count": null,
   "metadata": {},
   "outputs": [],
   "source": [
    "import argparse\n",
    "\n",
    "parser = argparse.ArgumentParser()\n",
    "\n",
    "parser.add_argument('-s', action='store',    dest='simple_value',     help='Store a simple value')\n",
    "\n",
    "parser.add_argument('-c', action='store_const',    dest='constant_value',    const='value-to-store',\n",
    "                    help='Store a constant value')\n",
    "\n",
    "parser.add_argument('-t', action='store_true',                    default=False,                    dest='boolean_t',\n",
    "                    help='Set a switch to true')\n",
    "parser.add_argument('-f', action='store_false',                    default=True,                    dest='boolean_f',\n",
    "                    help='Set a switch to false')\n",
    "\n",
    "parser.add_argument('-a', action='append',                    dest='collection',                    default=[],\n",
    "                    help='Add repeated values to a list')\n",
    "\n",
    "parser.add_argument('-A', action='append_const',       dest='const_collection',     const='value-1-to-append',\n",
    "                    default=[],                    help='Add different values to list')\n",
    "parser.add_argument('-B', action='append_const',                    dest='const_collection',\n",
    "                    const='value-2-to-append',                    help='Add different values to list')\n",
    "\n",
    "parser.add_argument('--version', action='version',                    version='%(prog)s 1.0')\n",
    "\n",
    "results = parser.parse_args()\n",
    "print(results)"
   ]
  },
  {
   "cell_type": "code",
   "execution_count": null,
   "metadata": {},
   "outputs": [],
   "source": [
    "import argparse\n",
    "import shlex\n",
    "\n",
    "parser = argparse.ArgumentParser(description='Short sample app',\n",
    "                                 fromfile_prefix_chars='@',\n",
    "                                 )\n",
    "\n",
    "parser.add_argument('-a', action=\"store_true\", default=False)\n",
    "parser.add_argument('-b', action=\"store\", dest=\"b\")\n",
    "parser.add_argument('-c', action=\"store\", dest=\"c\", type=int)\n",
    "\n",
    "print(parser.parse_args(['@argparse_fromfile_prefix_chars.txt']))"
   ]
  }
 ],
 "metadata": {
  "kernelspec": {
   "display_name": "Python 3",
   "language": "python",
   "name": "python3"
  },
  "language_info": {
   "codemirror_mode": {
    "name": "ipython",
    "version": 3
   },
   "file_extension": ".py",
   "mimetype": "text/x-python",
   "name": "python",
   "nbconvert_exporter": "python",
   "pygments_lexer": "ipython3",
   "version": "3.6.5"
  }
 },
 "nbformat": 4,
 "nbformat_minor": 2
}

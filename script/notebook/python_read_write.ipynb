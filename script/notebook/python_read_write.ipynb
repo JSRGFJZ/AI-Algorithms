{
 "cells": [
  {
   "cell_type": "code",
   "execution_count": 15,
   "metadata": {},
   "outputs": [],
   "source": [
    "### python read & write generic function\n"
   ]
  },
  {
   "cell_type": "code",
   "execution_count": 21,
   "metadata": {},
   "outputs": [
    {
     "name": "stdout",
     "output_type": "stream",
     "text": [
      "[ True  True  True  True  True]\n"
     ]
    },
    {
     "data": {
      "text/plain": [
       "array(['1', '2', 'a', 'f'], \n",
       "      dtype='<U1')"
      ]
     },
     "execution_count": 21,
     "metadata": {},
     "output_type": "execute_result"
    }
   ],
   "source": [
    "import numpy as np\n",
    "list = ['1','2','a','s','f']\n",
    "x =np.full(5,True)\n",
    "print(x)\n",
    "list = np.array(list)\n",
    "x[3]=False\n",
    "list[x]"
   ]
  },
  {
   "cell_type": "code",
   "execution_count": null,
   "metadata": {},
   "outputs": [],
   "source": [
    "import os\n",
    "import sys\n",
    "import numpy as np\n",
    "\n",
    "file_path = \"./svm_train_file2\"\n",
    "f = open(file_path, 'r')\n",
    "file_path1 = \"./svm_train_file\"\n",
    "f1 = open(file_path1, 'w+')\n",
    "count0 = 0\n",
    "count1 = 0\n",
    "count2 = 0\n",
    "count3 = 0\n",
    "count4 = 0\n",
    "all_number = 600\n",
    "#\n",
    "class0 = {}\n",
    "class1 = {}\n",
    "class2 = {}\n",
    "class3 = {}\n",
    "class4 = {}\n",
    "for line in f.readlines():\n",
    "    list_split = line.rstrip('\\n').split(\" \")\n",
    "    list2 = list_split[1].split(\":\")\n",
    "    label = (float)(list2[1])\n",
    "    if (list_split[0] == '0'):\n",
    "        count0 = count0 + 1\n",
    "        class0[label] = line\n",
    "        # if count0 <= all_number:\n",
    "        #     f1.write(\"%s\" % line)\n",
    "    if (list_split[0] == '1'):\n",
    "        count1 = count1 + 1\n",
    "        class1[label] = line\n",
    "        # if count1 <= all_number:\n",
    "        #     f1.write(\"%s\" % line)\n",
    "    if (list_split[0] == '2'):\n",
    "        count2 = count2 + 1\n",
    "        class2[label] = line\n",
    "        # if count2 <= all_number:\n",
    "        #     f1.write(\"%s\" % line)\n",
    "    if (list_split[0] == '3'):\n",
    "        count3 = count3 + 1\n",
    "        class3[label] = line\n",
    "        # if count3 <= all_number:\n",
    "        #     f1.write(\"%s\" % line)\n",
    "    if (list_split[0] == '4'):\n",
    "        count4 = count4 + 1\n",
    "        class4[label] = line\n",
    "        # if count4 <= all_number:\n",
    "        #     f1.write(\"%s\" % line)\n",
    "\n",
    "# now we sort all dictionary\n",
    "class0 = sorted(class0.items())\n",
    "class1 = sorted(class1.items())\n",
    "class2 = sorted(class2.items())\n",
    "class3 = sorted(class3.items())\n",
    "class4 = sorted(class4.items())\n",
    "\n",
    "for i in range(1, len(class0), int(len(class0)/370)):\n",
    "    f1.write(\"%s\" % (class0[i][1]))\n",
    "\n",
    "for i in range(1, len(class1), int(len(class1)/370)):\n",
    "    f1.write(\"%s\" % (class1[i][1]))\n",
    "\n",
    "for i in range(1, len(class2), int(len(class2)/370)):\n",
    "    f1.write(\"%s\" % (class2[i][1]))\n",
    "\n",
    "for i in range(1, len(class3), int(len(class3)/370)):\n",
    "    f1.write(\"%s\" % (class3[i][1]))\n",
    "\n",
    "for i in range(1, len(class4), int(len(class4)/301)):\n",
    "    f1.write(\"%s\" % (class4[i][1]))\n",
    "\n",
    "f.close()\n",
    "f1.close()\n",
    "print(count0, \"  \", count1, \"  \", count2, \" \", count3, \" \", count4)"
   ]
  }
 ],
 "metadata": {
  "kernelspec": {
   "display_name": "Python 3",
   "language": "python",
   "name": "python3"
  },
  "language_info": {
   "codemirror_mode": {
    "name": "ipython",
    "version": 3
   },
   "file_extension": ".py",
   "mimetype": "text/x-python",
   "name": "python",
   "nbconvert_exporter": "python",
   "pygments_lexer": "ipython3",
   "version": "3.6.5"
  }
 },
 "nbformat": 4,
 "nbformat_minor": 2
}
